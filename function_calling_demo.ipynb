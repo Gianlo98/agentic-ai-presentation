{
  "cells": [
    {
      "cell_type": "markdown",
      "source": [
        "# VertexAI Setup"
      ],
      "metadata": {
        "id": "OZBHjoSVpQV4"
      },
      "id": "OZBHjoSVpQV4"
    },
    {
      "cell_type": "code",
      "id": "S5IMqjrryDmypZp0sS7U0VUT",
      "metadata": {
        "tags": [],
        "id": "S5IMqjrryDmypZp0sS7U0VUT"
      },
      "source": [
        "import vertexai\n",
        "\n",
        "vertexai.init()"
      ],
      "execution_count": 78,
      "outputs": []
    },
    {
      "cell_type": "markdown",
      "source": [
        "# Client side function delcaration\n",
        "\n",
        "Declare the `list_extensions` function, which returns the list of extensions currently declared in the previously initialised Vertex AI instance."
      ],
      "metadata": {
        "id": "gWd3yOumdSe3"
      },
      "id": "gWd3yOumdSe3"
    },
    {
      "cell_type": "code",
      "source": [
        "from vertexai.preview.extensions import Extension\n",
        "\n",
        "def list_extensions():\n",
        "    \"\"\"Provides a list of Vertex AI extensions available to the user.\n",
        "\n",
        "    Returns:\n",
        "        list[tuple[str, str, str]]: A list of tuples where each tuple contains (in order) the\n",
        "        display name, the resource name, and the creation time of an extension.\n",
        "    \"\"\"\n",
        "    extensions_list = Extension.list()\n",
        "    return [(\n",
        "        e.display_name,\n",
        "        e.resource_name,\n",
        "        e.create_time.strftime(\"%m/%d/%Y, %H:%M:%S\")\n",
        "        ) for e in Extension.list()]"
      ],
      "metadata": {
        "id": "A-6Kv8qFJW8G"
      },
      "id": "A-6Kv8qFJW8G",
      "execution_count": 71,
      "outputs": []
    },
    {
      "cell_type": "markdown",
      "source": [
        "# Make client-side function schema interpretable by model"
      ],
      "metadata": {
        "id": "ZdciHXUReX_p"
      },
      "id": "ZdciHXUReX_p"
    },
    {
      "cell_type": "code",
      "source": [
        "list_extensions_function = FunctionDeclaration.from_func(list_extensions)\n",
        "list_extensions_function"
      ],
      "metadata": {
        "colab": {
          "base_uri": "https://localhost:8080/"
        },
        "id": "pX0WeD52eWjQ",
        "outputId": "2630f7c1-bbae-452e-bd7e-1eba90e33ee2"
      },
      "id": "pX0WeD52eWjQ",
      "execution_count": 79,
      "outputs": [
        {
          "output_type": "execute_result",
          "data": {
            "text/plain": [
              "name: \"list_extensions\"\n",
              "description: \"Provides a list of vertex ai extensions available to the user.\"\n",
              "parameters {\n",
              "  type_: OBJECT\n",
              "  title: \"list_extensions\"\n",
              "  description: \"Provides a list of vertex ai extensions available to the user.\"\n",
              "}"
            ]
          },
          "metadata": {},
          "execution_count": 79
        }
      ]
    },
    {
      "cell_type": "markdown",
      "source": [
        "# Run the Agent with the \"Function Calling\" tool"
      ],
      "metadata": {
        "id": "JI3ogvcQenqu"
      },
      "id": "JI3ogvcQenqu"
    },
    {
      "cell_type": "code",
      "source": [
        "import requests\n",
        "import vertexai\n",
        "from vertexai.generative_models import (\n",
        "    Content,\n",
        "    FunctionDeclaration,\n",
        "    GenerationConfig,\n",
        "    GenerativeModel,\n",
        "    Part,\n",
        "    Tool,\n",
        ")\n",
        "\n",
        "model = GenerativeModel(\"gemini-1.5-flash-001\")\n",
        "\n",
        "user_prompt_content = Content(\n",
        "    role=\"user\",\n",
        "    parts=[\n",
        "        Part.from_text(\"Which Vetex AI extension do I have access to ?\"),\n",
        "    ],\n",
        ")\n",
        "\n",
        "support_tool = Tool(\n",
        "    function_declarations=[list_extensions_function],\n",
        ")\n",
        "\n",
        "response = model.generate_content(\n",
        "    user_prompt_content,\n",
        "    generation_config=GenerationConfig(temperature=0),\n",
        "    tools=[support_tool],\n",
        ")\n",
        "\n",
        "\n",
        "for function_call in response.candidates[0].function_calls:\n",
        "    if function_call.name == \"list_extensions\":\n",
        "        api_response = list_extensions()\n",
        "\n",
        "    response = model.generate_content(\n",
        "        [\n",
        "            user_prompt_content,\n",
        "            response.candidates[0].content,\n",
        "            Content(\n",
        "                parts=[\n",
        "                    Part.from_function_response(\n",
        "                        name=function_call.name,\n",
        "                        response={\"content\": api_response},\n",
        "                    ),\n",
        "                ],\n",
        "            ),\n",
        "        ],\n",
        "        tools=[support_tool],\n",
        "    )\n",
        "\n",
        "    print(response.text)"
      ],
      "metadata": {
        "colab": {
          "base_uri": "https://localhost:8080/"
        },
        "id": "uYEg3OBpNrOs",
        "outputId": "ca6f8b1f-6f7f-4af6-f357-8f407f9ec3c7"
      },
      "id": "uYEg3OBpNrOs",
      "execution_count": 80,
      "outputs": [
        {
          "output_type": "stream",
          "name": "stdout",
          "text": [
            "You have access to the following Vertex AI extension: Zefix. It was last updated on 01/22/2025, 11:08:20. \n",
            "\n"
          ]
        }
      ]
    }
  ],
  "metadata": {
    "kernelspec": {
      "display_name": "Python 3",
      "language": "python",
      "name": "python3"
    },
    "language_info": {
      "codemirror_mode": {
        "name": "ipython",
        "version": 3
      },
      "file_extension": ".py",
      "mimetype": "text/x-python",
      "name": "python",
      "nbconvert_exporter": "python",
      "pygments_lexer": "ipython3",
      "version": "3.10.10"
    },
    "colab": {
      "provenance": [],
      "name": "gianlorenzo.occhipinti (Jan 22, 2025, 2:06:11 PM)"
    }
  },
  "nbformat": 4,
  "nbformat_minor": 5
}